{
 "cells": [
  {
   "cell_type": "markdown",
   "metadata": {
    "id": "OdRzS4vaxO6S"
   },
   "source": [
    "# **Case Study: Condition Monitoring of a Complex Hydraulic System**\n",
    "The system under study consists of a primary working circuit (Figure 1 a) and a secondary circuit for cooling and filtration (Figure 1 b), both systems are connected via the oil tanks. This system was developed as a test rig allowing to change the state or condition of various components. [Paper available here](https://ieeexplore.ieee.org/document/7151267)"
   ]
  },
  {
   "cell_type": "markdown",
   "metadata": {
    "id": "O0v_05F-NbaT"
   },
   "source": [
    "## *Figure 1*\n",
    "![picture](https://drive.google.com/uc?export=view&id=1Phrt8RMtkQ513iRafEY9rcsKvmszN9wh)"
   ]
  },
  {
   "cell_type": "markdown",
   "metadata": {},
   "source": [
    "The given test system is equipped with **several sensors measuring process values** such as pressure (PS1-PS6), flow (FS1, FS2), temperature (TS1-TS5), electrical power (EPS1) and vibration (VS1). In addition, sensors for particle contamination (CS and MCS, COPS) and oil parameter monitoring (COPS) are integrated. \n",
    "\n",
    "\n",
    "The system cyclically repeats constant load cycles (duration 60 seconds) and measures process values **while the condition of four hydraulic components (cooler, valve, pump and accumulator) is quantitatively varied**. The dataset is available in the following [link](https://archive-beta.ics.uci.edu/dataset/447/condition+monitoring+of+hydraulic+systems)."
   ]
  },
  {
   "cell_type": "markdown",
   "metadata": {},
   "source": [
    "## System description\n",
    "After consulting different experts in the area of hydraulic systems (a nautic engineer and a physicist) and some bibliography review, it has been possible to understand: how the system components work, the system working principle and the different operating points. In the following sections all the gathered information will be explained. \n",
    "\n",
    "### A. Components description:\n",
    "\n",
    "1. **2/2-way valves**: These valves can take only two states, completely open or closed. Each position the valve can take is represented by a square. These valves need a control signal to change its normal state. [more info](https://www.hafner-pneumatik.com/images/catalog/Chapter%205%20-%20Schemes%20of%20directional%20control%20valves%20-%20ISO-symbols.pdf) *normally closed*: V1, V2, V3, V4, V10. *normally open* V6. \n",
    "\n",
    "<img src='images/2%20way%20valve.png' alt = '2/2 way valve' width='260' height='310'> \n",
    "\n",
    "2. **Pressure relieve valves**: This type of valve is designed to maintain an optimum pressure level. The valve is preset at a given pressure and, as the pressure in the line increases, gradually opens discharging the necessary amount of fluid required to  drop the pressure to acceptable levels. These valves prevent damages to the system, as it is the case for V7 and V8 in the schematic **a**. Nevertheless, V11 is used for other purposes, its preset relief pressure will change in time during the working cycles and it is considered as the **load**. Its function in the system will be explained further. For nice explanation watch this [video](https://www.youtube.com/watch?v=AyizWUpPt28)\n",
    "\n",
    "<img src='images/pressure_relief_valve.png' alt = 'pressure_relief_valve' width='130' height='200'> \n",
    "\n",
    "3. **Adjustable flow control valve**: This is a valve with changeable aperture, used to regulate the flow rate and fluid pressure. The aperture closes to decrease the flow rate or opens to increase the flow rate.\n",
    "\n",
    "<img src='images/flow_control_valve.png' alt = 'flow_control_valve' width='130' height='200'> \n",
    "\n",
    "4. **Flow control (flow restrictor) valve**: As the adjustable flow control valve, it regulates the flow rate of the fluid but the cross-section of the valve is not changeable.\n",
    "\n",
    " <img src='images/2-flow-control-valve.png' alt = 'flow_control_valve_2' width='140' height='210'> \n",
    " \n",
    "4. **Filters**: Filters are hydraulic components that catch contaminants or damaging particles in suspension present in the hydraulic fluid. In the system under study, F1 and F2 are filters.\n",
    "\n",
    " <img src='images/filter.png' alt = 'filter' width='130' height='200'> \n",
    " \n",
    "5. **Heat exchanger (cooler)**: Such components use air or water to cool fluid in hydraulic systems. They pass liquid through a coil or core to cool it before it enters the system. C1 is the cooler in the system **b** and it uses air as coolant.\n",
    "\n",
    " <img src='images/cooler.gif' alt = 'cooler' width='130' height='200'> \n",
    " \n",
    "6. **Hydraulic pump**: It is an electromechanical device that converts mechanical power into hydraulic energy. It injects liquid to the hydraulic system (e.g. oil, water,refrigerant,etc) from a tank or reservoir, they do so generating flow with enough power to overcome pressure induced by a load at the pump outlet. \n",
    "\n",
    "<img src='images/pump.jpg' alt = 'pump' width='90' height='160'>\n",
    "\n",
    "<!---\n",
    "When the pump operates, it creates a vacuum at its inlet which forces liquid from the reservoir into the pump inlet line, and by mechanical action delivers this liquid to the pump outlet and forces it into the hydraulic system. \n",
    "-->\n",
    "\n",
    "7. **Tank/ Reservoir**: Place where the liquid to be injected in the hydraulic system is stored.\n",
    "\n",
    " <img src='images/reservoir.png' alt = 'pump' width='90' height='160'> \n",
    " \n",
    "8. **Accumulators**: It is a pressure vessel used for different porpuses such as maintain pressure, store and recapture energy, reduce pressure peaks, power chassis suspensions, and dampen shock, vibration and pulsations. Under gas pressure, accumulators store a volume of fluid that can be re-fed into the hydraulic system when it is needed. With a rise in pressure within the hydraulic system, the hydraulic accumulator collects the pressure fluid. As a consequence, the gas is compressed. If the pressure falls, the compressed gas expands again and forces the stored fluid into the hydraulic circuit.\n",
    "\n",
    "<img src='images/accumulator.png' alt = 'accumulator' width='60' height='130'>\n",
    "\n",
    "### B. System working principle\n",
    "The working circuit (Figure 1 a) is equipped with the main pump MP1, which injects oil to the system from the tank. Since the valve states change the oil flow path, different cases will be explained to ilustrate the system operation points.\n",
    "\n",
    "1. **All valves are closed except for V6 (normally open)**. All the oil returns to the tank through V6 since this is the minimum effort path. PS1 would measure 0 bar.\n",
    "\n",
    "2. **All valves are closed**. The oil flows through either V7 or V8 (the one with smaller preset pressure) and return to the tank. PS1 would measure the preset pressure at which the valve that is open was configurated.\n",
    "\n",
    "3. **All valves are closed except for V10**. The oil flows through V10 and, when it arrives at the junction where V11 and CS sensor are, most of the oil moves forward through V11 and few oil left would flow through the sensor. The last path impart a higher resistance to the oil flow due to the control flow valve placed after CS sensor. In this condition the pressure registered at PS1 would be equal to the one registered at PS2, both equal to the preset pressure at which V11 was configurated.\n",
    "\n",
    "<!---\n",
    "If V6 and V10 were both closed, the pressure in the line would increases up to the relief pressure set in V8, there on the oil will flow freely through V8. \n",
    "\n",
    "Do Pumps Create Pressure or Flow? https://www.youtube.com/watch?v=m3i_5xP9PYU\n",
    "The Difference Between Pressure and Flow https://www.youtube.com/watch?v=AyizWUpPt28\n",
    "-->\n",
    "\n",
    "**About the system load**\n",
    "\n",
    "It is important to highlight that hydraulic pump does not \"*decide*\" the pressure and flow rate it will deliver, this \"*decision*\" is taken by the system the pump is connected to. Pressure and flow rate at which the pump will be working depend on the requirements imposed by the system it is connected to, and the pump characteristics itself. To understand better this fact, please refer to the video [Do Pumps Create Pressure or Flow?](https://www.youtube.com/watch?v=m3i_5xP9PYU).\n",
    "\n",
    "With the previous idea in mind, referring to the working circuit (Figure 1 a), when V10 is open, V11 determines the pressure under which the pump is going to be working and the corresponding flow rate. According to what it was explained by the authors providing the data [(paper)](https://ieeexplore.ieee.org/document/7151267), the pressure at which the valve V11 is preset changes to different levels whithin individual working cycles, hence the pump is subject to a cyclic changing load.\n",
    "\n",
    "The researchers subjected the system to pre-defined load levels and also variable working cycles with pseudoranom load variations. In figure 2 it is shown the measurements registered in the pressure sensor PS1 during four consecutive cycles. The first and the forth cycles are examples of pseudo-random load levels while the other two are examples of pre-defined load levels."
   ]
  },
  {
   "cell_type": "code",
   "execution_count": 2,
   "metadata": {
    "hideCode": true,
    "hideOutput": false,
    "hidePrompt": false
   },
   "outputs": [],
   "source": [
    "import numpy as np\n",
    "import matplotlib.pyplot as plt\n",
    "import os\n",
    "import csv\n",
    "import graphviz as gr\n",
    "import ges\n",
    "def load_data(dir_array, dir_add, idx_arr=[]):\n",
    "    i = 0\n",
    "    for file in dir_array:\n",
    "        temp = np.loadtxt(dir_add+file, delimiter='\\t', skiprows=0, dtype=float)\n",
    "        temp = temp[idx_arr,:]\n",
    "        temp = temp.flatten()\n",
    "        if i ==0:\n",
    "            X = np.array([], dtype=np.int64).reshape(len(temp),0)\n",
    "        X = np.hstack([X, temp.reshape(-1,1)])\n",
    "        i=i+1\n",
    "    return X\n",
    "\n",
    "def save_adjMat_score(file_name, estimate, score = False):\n",
    "    # open the file in the write mode\n",
    "    f = open('Results/adjMat_' + file_name, 'w')\n",
    "    # create the csv writer\n",
    "    writer = csv.writer(f)\n",
    "    for i in range(estimate.shape[0]):\n",
    "        # write a row to the csv file\n",
    "        writer.writerow(estimate[i,:])\n",
    "    # close the file\n",
    "    f.close()\n",
    "    print('File saved: ', 'adjMat_' + file_name)\n",
    "    if score:\n",
    "        f = open('Results/score_'+file_name+'.txt', 'w')\n",
    "        # create the csv writer\n",
    "        f.write(str(score))\n",
    "        # close the file\n",
    "        f.close()\n",
    "        print('File saved: ', 'score_' + file_name)\n",
    "    \n",
    "def create_graph(adjMat, nodes, labels):\n",
    "    f = gr.Digraph(filename = 'graph1.gv')\n",
    "    for name,label in zip(nodes,labels):\n",
    "        f.node(name, label)\n",
    "\n",
    "    # Specify edges\n",
    "    for row in range(adjMat.shape[0]):\n",
    "        for col in range(adjMat.shape[1]):\n",
    "            if adjMat[row,col] == 1:\n",
    "                f.edge(nodes[row],nodes[col])\n",
    "    return f\n",
    "\n",
    "nodes_full = [\"CE\",\"CP\",\"SE\",\"TS1\",\"TS2\",\"TS3\",\"TS4\",\"VS1\",\"FS1\",\"FS2\",\"EPS1\",\"PS1\",\"PS2\",\"PS3\",\"PS4\",\"PS5\",\"PS6\"]"
   ]
  },
  {
   "cell_type": "markdown",
   "metadata": {
    "hideCode": false
   },
   "source": [
    "# *Figure 2*"
   ]
  },
  {
   "cell_type": "code",
   "execution_count": 3,
   "metadata": {
    "hideCode": true
   },
   "outputs": [
    {
     "data": {
      "image/png": "[encoded data removed]",
      "text/plain": [
       "<Figure size 1000x200 with 1 Axes>"
      ]
     },
     "metadata": {},
     "output_type": "display_data"
    }
   ],
   "source": [
    "# Removing non stable cycles\n",
    "profile = np.loadtxt('data description/profile.txt', delimiter='\\t', skiprows=0, dtype=float)\n",
    "idx_stable = np.where(profile[:,4] == 0)\n",
    "idx_stable = np.asarray(idx_stable)[0]\n",
    "# Loading data sampled at 1Hz\n",
    "# print('----------------------------------------')\n",
    "# print('Loading Ps1')\n",
    "# print('----------------------------------------')\n",
    "PS1 = load_data(['PS1.txt'],'data/100Hz/', idx_arr=idx_stable) \n",
    "# PS1 =PS1[0:-1:100,:]\n",
    "# print('Data loaded. Matrix shape:', PS1.shape)\n",
    "plt.figure(figsize=(10,2))\n",
    "t = np.linspace(0, 60*4, num=6000*4)\n",
    "plt.plot(t, PS1[:6000*4])\n",
    "plt.plot(60*np.ones([20,1]),np.linspace(0,200,20),'--r')\n",
    "plt.plot(120*np.ones([20,1]),np.linspace(0,200,20),'--r')\n",
    "plt.plot(180*np.ones([20,1]),np.linspace(0,200,20),'--r')\n",
    "plt.ylim([120, 200])\n",
    "plt.xlim([0, 60*4])\n",
    "plt.title('PS1')\n",
    "plt.xlabel('Pressure [bar]')\n",
    "\n",
    "plt.show()"
   ]
  },
  {
   "cell_type": "code",
   "execution_count": 4,
   "metadata": {
    "hideCode": true,
    "hideOutput": true
   },
   "outputs": [],
   "source": [
    "# # Create subplots (considering all the data)\n",
    "# fig = plt.figure(figsize=(8,5))\n",
    "# ax1 = fig.add_subplot(311)\n",
    "# ax2 = fig.add_subplot(312)\n",
    "# ax3 = fig.add_subplot(313)\n",
    "# # ax4 = fig.add_subplot(414)\n",
    "\n",
    "# t = np.linspace(0, 60*4, num=60*4)\n",
    "# ax1.plot(t, data[:60*4,10])\n",
    "# ax1.plot(60*np.ones([20,1]),np.linspace(0,3000,20),'--r')\n",
    "# ax1.plot(120*np.ones([20,1]),np.linspace(0,3000,20),'--r')\n",
    "# ax1.plot(180*np.ones([20,1]),np.linspace(0,3000,20),'--r')\n",
    "# ax1.set_ylim([0, 3000])\n",
    "# ax1.set_xlim([0, 60*4])\n",
    "# ax1.title.set_text('EPS1')\n",
    "# ax1.set_ylabel('Motor power [W]')\n",
    "\n",
    "# ax2.plot(t, data[:60*4,11])\n",
    "# ax2.plot(60*np.ones([20,1]),np.linspace(0,200,20),'--r')\n",
    "# ax2.plot(120*np.ones([20,1]),np.linspace(0,200,20),'--r')\n",
    "# ax2.plot(180*np.ones([20,1]),np.linspace(0,200,20),'--r')\n",
    "# ax2.set_ylim([0, 200])\n",
    "# ax2.set_xlim([0, 60*4])\n",
    "# ax2.title.set_text('PS1')\n",
    "# ax2.set_ylabel('Pressure [bar]')\n",
    "\n",
    "# ax3.plot(t, data[:60*4,12])\n",
    "# ax3.plot(60*np.ones([20,1]),np.linspace(0,200,20),'--r')\n",
    "# ax3.plot(120*np.ones([20,1]),np.linspace(0,200,20),'--r')\n",
    "# ax3.plot(180*np.ones([20,1]),np.linspace(0,200,20),'--r')\n",
    "# ax3.set_ylim([0, 200])\n",
    "# ax3.set_xlim([0, 60*4])\n",
    "# ax3.title.set_text('PS2')\n",
    "# ax3.set_ylabel('Pressure [bar]')\n",
    "# ax3.set_xlabel('Time [s]')\n",
    "\n",
    "# # ax4.plot(t, data[:60*4,13])\n",
    "# # ax4.plot(60*np.ones([20,1]),np.linspace(0,10,20),'--r')\n",
    "# # ax4.plot(120*np.ones([20,1]),np.linspace(0,10,20),'--r')\n",
    "# # ax4.plot(180*np.ones([20,1]),np.linspace(0,10,20),'--r')\n",
    "# # ax4.set_ylim([0, 10])\n",
    "# # ax4.set_xlim([0, 60*4])\n",
    "# # ax4.title.set_text('PS3')\n",
    "# # ax4.set_ylabel('[bar]')\n",
    "\n",
    "# fig.tight_layout()\n",
    "# plt.show()"
   ]
  },
  {
   "cell_type": "markdown",
   "metadata": {
    "id": "hUPUIcnc0Ylu"
   },
   "source": [
    "# **Data Inspection**\n",
    "\n",
    "The data has been collected from **17 sensors** (6 of pressure, 1 motor power, 2 volume flow, 4 temperature, 1 vibration, 1 cooling efficiency, 1 cooling power and 1 efficiency factor) over **2205 cycles** of 60 sec each (1.5 days). The sensors' sampling rate in different depending on the dynamics of the underlying physical values. The sensors involved with their respective unit of measure and samplig rate are reported in the Table below.\n",
    "\n",
    "\n",
    "| Sensor | Physical quantity          | Unit  | Sampling rate |\n",
    "|:--------|:---------------------------|:-------|:---------------|\n",
    "| PS1    | Pressure                  | bar   | 100 Hz        |\n",
    "| PS2    | Pressure                  | bar   | 100 Hz        |\n",
    "| PS3    | Pressure                  | bar   | 100 Hz        |\n",
    "| PS4    | Pressure                  | bar   | 100 Hz        |\n",
    "| PS5    | Pressure                  | bar   | 100 Hz        |\n",
    "| PS6    | Pressure                  | bar   | 100 Hz        |\n",
    "| EPS1   | Motor power               | W     | 100 Hz        |\n",
    "| FS1    | Volume flow               | l/min | 10 Hz         |\n",
    "| FS2    | Volume flow               | l/min | 10 Hz         |\n",
    "| TS1    | Temperature               | °C    | 1 Hz          |\n",
    "| TS2    | Temperature               | °C    | 1 Hz          |\n",
    "| TS3    | Temperature               | °C    | 1 Hz          |\n",
    "| TS4    | Temperature               | °C    | 1 Hz          |\n",
    "| VS1    | Vibration                 | mm/s  | 1 Hz          |\n",
    "| CE     | Cooling efficiency (virtual) | %    | 1 Hz          |\n",
    "| CP     | Cooling power (virtual)   | kW    | 1 Hz          |\n",
    "| SE     | Efficiency factor         | %     | 1 Hz          |\n",
    "\n",
    "The raw process sensors output is provided in separate dedicated files (one file per sensor). Each file is structured as a matrix (tab-delimited) with the rows representing the cycles and the columns the data samples within a cycle.\n",
    "\n",
    "In order to simulate different scenarios, from normal functioning to faults of different severities, especific parameters of some components are configurable. In the following table are listed the configurable components and the respective controllable parameter.\n",
    "\n",
    "| |Component  |Condition              |Control Parameter    |\n",
    "|:-:|:-----------|:-----------------------|:---------------------|\n",
    "|1|Cooler (C1)| Cooling power decrease| Fan duty cycle of C1|\n",
    "|2|Valve (V10)| Switching characteristic degradation| Control current of V10|\n",
    "|3|Pump (MP1)| Internal leakage|Switchable bypass orifices (V9)|\n",
    "|4|Accumulators (A1-A4)| Gas leakage| Accumulators A1-A4 with different precharge pressure|\n",
    "\n",
    "The condition of each component cycle-wise is provided in the file ```profile.txt```. ```profile.txt``` contains a matrix whose rows represent the cycles (2205), all columns but number 5 are the condition of each component and the last column is a flag indicating if stady state is reached or not. The columns order and entries are read in the following way:\n",
    "\n",
    "1. **Cooler condition** (%):\n",
    "\t* 3: close to total failure\n",
    "\t* 20: reduced effifiency\n",
    "\t* 100: full efficiency\n",
    "\n",
    "2. **Valve condition** (%):\n",
    "\t* 100: optimal switching behavior\n",
    "\t* 90: small lag\n",
    "\t* 80: severe lag\n",
    "\t* 73: close to total failure\n",
    "\n",
    "3. **Internal pump leakage**:\n",
    "\t* 0: no leakage\n",
    "\t* 1: weak leakage\n",
    "\t* 2: severe leakage\n",
    "\n",
    "4. **Hydraulic accumulator** (bar):\n",
    "\t* 130: optimal pressure\n",
    "\t* 115: slightly reduced pressure\n",
    "\t* 100: severely reduced pressure\n",
    "\t* 90: close to total failure\n",
    "\n",
    "5. **Stable flag**:\n",
    "\t* 0: conditions were stable\n",
    "\t* 1: static conditions might not have been reached yet\n",
    "\n",
    "\n",
    "\n",
    "<!--- \n",
    "\n",
    "The number of instances is 2205, while the number of attrbiutes is 3680 (8x60 (1 Hz) + 2x600 (10 Hz) + 7x6000 (100 Hz)). The attributes are the sensor data(all numeric and continuous) from measurements taken at the same point in time, respectively, of a hydraulic test rig's working cycle.) \n",
    "\n",
    "The sensors were read with different sampling rates, leading to different numbers of attributes per sensor despite they were all exposed to the same working cycle.\n",
    "   \n",
    "   1. Pressure sensors (PS1-6): 100 Hz, 6000 attributes per sensor (6 sensors)\n",
    "   2. Motor power sensor (EPS1): 100 Hz, 6000 attributes per sensor (1 sensor)\n",
    "   3. Volume flow sensors (FS1/2): 10 Hz, 600 attributes per sensor (2 sensors)\n",
    "   4. Temperature sensors (TS1-4): 1 Hz, 60 attributes per sensor (4 sensors)\n",
    "   5. Vibration sensor (VS1): 1 Hz, 60 attributes per sensor (1 sensor)\n",
    "   6. Efficiency factor (SE): 1 Hz, 60 attributes per sensor (1 sensor)\n",
    "   7. Virtual cooling efficiency sensor (CE): 1 Hz, 60 attributes per sensor (1 sensor)\n",
    "   8. Virtual cooling power sensor (CP): 1 Hz, 60 attributes per sensor (1 sensor)\n",
    "\n",
    "Note that if an attribute value is missing it has None value.\n",
    "\n",
    "-->"
   ]
  },
  {
   "cell_type": "markdown",
   "metadata": {},
   "source": [
    "# Data pre-processing\n",
    "As it is explained in the [paper](https://ieeexplore.ieee.org/document/7151267), the test system performed 2205 working cycles during which the different fault conditions (types and severity) were simulated in all combinations, taking into consideration the time scales of the expected effects into account, e.g. changing the cooler fan dutty cycle takes more time to note its effect while the effect of manipulating a valve state is noticed faster. \n",
    "\n",
    "Some remarks:\n",
    "- It was decided to analyse only the cycles corresponding to stable oil temperature, those are the cycles identified in ```profile.txt``` with **stable flag** = 1. In total 1449 cycles are considered.\n",
    "- For each sensor it was generated a column vector obtained concatenating the measurements cycle-wise.\n",
    "- The resulting column vectors corresponding to sensors sampled at frequencies higher than 1 Hz are under sampled into 1 sample per second. This is done to study only the data acquired at the same time instant and to decrease the computational burden. In Figure 3 it is shown the comparison of original and subsampled signals of some sensors, during three working cycles. It is noticed that the undersampling does not perturbe the signals integrity neither their trends.\n",
    "- All vectors are organized as columns of a matrix storing the whole undersampled data.  "
   ]
  },
  {
   "cell_type": "code",
   "execution_count": 5,
   "metadata": {
    "hideCode": true,
    "hideOutput": true,
    "hidePrompt": false
   },
   "outputs": [
    {
     "name": "stdout",
     "output_type": "stream",
     "text": [
      "----------------------------------------\n",
      "1Hz files\n",
      "----------------------------------------\n",
      "['CE.txt', 'CP.txt', 'SE.txt', 'TS1.txt', 'TS2.txt', 'TS3.txt', 'TS4.txt', 'VS1.txt']\n",
      "Data loaded. Matrix shape: (86940, 8)\n",
      "----------------------------------------\n",
      "10Hz files\n",
      "----------------------------------------\n",
      "['FS1.txt', 'FS2.txt']\n",
      "Data loaded. Matrix shape: (869400, 2)\n",
      "Data sub sampled. Matrix shape: (86940, 2)\n",
      "----------------------------------------\n",
      "100Hz files\n",
      "----------------------------------------\n",
      "['EPS1.txt', 'PS1.txt', 'PS2.txt', 'PS3.txt', 'PS4.txt', 'PS5.txt', 'PS6.txt']\n",
      "Data loaded. Matrix shape: (8694000, 7)\n",
      "Data sub sampled. Matrix shape: (86940, 7)\n",
      "----------------------------------------\n",
      "Whole data matrix created!!\n",
      "----------------------------------------\n",
      "(86940, 17)\n"
     ]
    }
   ],
   "source": [
    "# Removing non stable cycles\n",
    "profile = np.loadtxt('data description/profile.txt', delimiter='\\t', skiprows=0, dtype=float)\n",
    "idx_stable = np.where(profile[:,4] == 0)\n",
    "idx_stable = np.asarray(idx_stable)[0]\n",
    "# Loading data sampled at 1Hz\n",
    "print('----------------------------------------')\n",
    "print('1Hz files')\n",
    "print('----------------------------------------')\n",
    "arr = os.listdir('data/1Hz')\n",
    "X_1Hz = load_data(arr,'data/1Hz/', idx_arr=idx_stable) \n",
    "print(arr)\n",
    "print('Data loaded. Matrix shape:', X_1Hz.shape)\n",
    "\n",
    "# Loading data sampled at 1Hz\n",
    "print('----------------------------------------')\n",
    "print('10Hz files')\n",
    "print('----------------------------------------')\n",
    "arr = os.listdir('data/10Hz')\n",
    "X_10Hz = load_data(arr,'data/10Hz/', idx_arr=idx_stable)\n",
    "print(arr)\n",
    "print('Data loaded. Matrix shape:', X_10Hz.shape)\n",
    "# Data Sub sampling \n",
    "X_10Hz_sub=X_10Hz[0:-1:10,:]\n",
    "print('Data sub sampled. Matrix shape:', X_10Hz_sub.shape)\n",
    "\n",
    "\n",
    "# Loading data sampled at 1Hz\n",
    "print('----------------------------------------')\n",
    "print('100Hz files')\n",
    "print('----------------------------------------')\n",
    "arr = os.listdir('data/100Hz')\n",
    "X_100Hz = load_data(arr,'data/100Hz/', idx_arr=idx_stable)\n",
    "print(arr)\n",
    "print('Data loaded. Matrix shape:', X_100Hz.shape)\n",
    "# Data Sub sampling \n",
    "X_100Hz_sub=X_100Hz[0:-1:100,:]\n",
    "print('Data sub sampled. Matrix shape:', X_100Hz_sub.shape)\n",
    "\n",
    "# Data matrixes concatenation\n",
    "print('----------------------------------------')\n",
    "print('Whole data matrix created!!')\n",
    "print('----------------------------------------')\n",
    "data = np.concatenate((X_1Hz,X_10Hz_sub,X_100Hz_sub),1)\n",
    "print(data.shape)"
   ]
  },
  {
   "cell_type": "markdown",
   "metadata": {},
   "source": [
    "## *Figure 3*"
   ]
  },
  {
   "cell_type": "code",
   "execution_count": 6,
   "metadata": {
    "hideCode": true,
    "hidePrompt": false
   },
   "outputs": [
    {
     "data": {
      "image/png": "[encoded data removed]",
      "text/plain": [
       "<Figure size 1000x1000 with 5 Axes>"
      ]
     },
     "metadata": {},
     "output_type": "display_data"
    }
   ],
   "source": [
    "# Create subplots (considering all the data)\n",
    "fig = plt.figure(figsize=(10,10))\n",
    "ax1 = fig.add_subplot(511)\n",
    "ax2 = fig.add_subplot(512)\n",
    "ax3 = fig.add_subplot(513)\n",
    "ax4 = fig.add_subplot(514)\n",
    "ax5 = fig.add_subplot(515)\n",
    "\n",
    "\n",
    "t = np.linspace(0, 60*3, num=6000*3)\n",
    "t_sub = np.linspace(0, 60*3, num=60*3)\n",
    "ax1.plot(t, X_100Hz[480*6000:6000*3+480*6000,3], label=\"100Hz\")\n",
    "ax1.plot(t_sub, X_100Hz_sub[480*60:60*3+480*60,3],'r', label=\"1Hz\")\n",
    "ax1.plot(60*np.ones([20,1]),np.linspace(0,20,20),'--g')\n",
    "ax1.plot(120*np.ones([20,1]),np.linspace(-10,20,20),'--g')\n",
    "ax1.plot(180*np.ones([20,1]),np.linspace(-10,20,20),'--g')\n",
    "ax1.plot(240*np.ones([20,1]),np.linspace(-10,20,20),'--g')\n",
    "ax1.set_ylabel('Pressure [bar]')\n",
    "ax1.title.set_text('PS3 (100Hz)')\n",
    "ax1.legend(loc='upper right')\n",
    "ax1.set_xlim([0, 60*3])\n",
    "ax1.set_ylim([-.5, 10])\n",
    "\n",
    "ax2.plot(t, X_100Hz[480*6000:6000*3+480*6000,2], label=\"100Hz\")\n",
    "ax2.plot(t_sub, X_100Hz_sub[480*60:60*3+480*60,2],'r', label=\"1Hz\")\n",
    "ax2.plot(60*np.ones([20,1]),np.linspace(-10,200,20),'--g')\n",
    "ax2.plot(120*np.ones([20,1]),np.linspace(-10,200,20),'--g')\n",
    "ax2.plot(180*np.ones([20,1]),np.linspace(-10,200,20),'--g')\n",
    "ax2.plot(240*np.ones([20,1]),np.linspace(-10,200,20),'--g')\n",
    "ax2.set_ylabel('Pressure [bar]')\n",
    "ax2.title.set_text('PS2 (100Hz)')\n",
    "ax2.legend(loc='lower right')\n",
    "ax2.set_xlim([0, 60*3])\n",
    "ax2.set_ylim([-10, 175])\n",
    "\n",
    "ax3.plot(t, X_100Hz[480*6000:6000*3+480*6000,1], label=\"100Hz\")\n",
    "ax3.plot(t_sub, X_100Hz_sub[480*60:60*3+480*60,1],'r', label=\"1Hz\")\n",
    "ax3.plot(60*np.ones([20,1]),np.linspace(-10,200,20),'--g')\n",
    "ax3.plot(120*np.ones([20,1]),np.linspace(-10,200,20),'--g')\n",
    "ax3.plot(180*np.ones([20,1]),np.linspace(-10,200,20),'--g')\n",
    "ax3.plot(240*np.ones([20,1]),np.linspace(-10,200,20),'--g')\n",
    "ax3.set_ylabel('Pressure [bar]')\n",
    "ax3.title.set_text('PS1 (100Hz)')\n",
    "ax3.set_ylim([0, 200])\n",
    "ax3.legend(loc='lower right')\n",
    "ax3.set_xlim([0, 60*3])\n",
    "\n",
    "ax4.plot(t, X_100Hz[480*6000:6000*3+480*6000,0], label=\"100Hz\")\n",
    "ax4.plot(t_sub, X_100Hz_sub[480*60:60*3+480*60,0],'r', label=\"1Hz\")\n",
    "ax4.plot(60*np.ones([20,1]),np.linspace(-10,3000,20),'--g')\n",
    "ax4.plot(120*np.ones([20,1]),np.linspace(-10,3000,20),'--g')\n",
    "ax4.plot(180*np.ones([20,1]),np.linspace(-10,3000,20),'--g')\n",
    "ax4.plot(240*np.ones([20,1]),np.linspace(-10,3000,20),'--g')\n",
    "ax4.set_ylabel('Motor power [W]')\n",
    "ax4.title.set_text('EPS1 (100Hz)')\n",
    "ax4.legend(loc='lower right')\n",
    "ax4.set_ylim([0, 3000])\n",
    "ax4.set_xlim([0, 60*3])\n",
    "\n",
    "t = np.linspace(0, 60*3, num=600*3)\n",
    "t_sub = np.linspace(0, 60*3, num=60*3)\n",
    "ax5.plot(t, X_10Hz[480*600:600*3+480*600,0], label=\"10Hz\")\n",
    "ax5.plot(t_sub, X_10Hz_sub[480*60:60*3+480*60,0],'r', label=\"1Hz\")\n",
    "ax5.plot(60*np.ones([20,1]),np.linspace(-10,3000,20),'--g')\n",
    "ax5.plot(120*np.ones([20,1]),np.linspace(-10,3000,20),'--g')\n",
    "ax5.plot(180*np.ones([20,1]),np.linspace(-10,3000,20),'--g')\n",
    "ax5.plot(240*np.ones([20,1]),np.linspace(-10,3000,20),'--g')\n",
    "ax5.set_ylabel('Flow rate [l/min]')\n",
    "ax5.title.set_text('FS1 (10Hz)')\n",
    "ax5.legend(loc='upper right')\n",
    "ax5.set_xlim([0, 60*3])\n",
    "ax5.set_ylim([-0.50, 20])\n",
    "ax5.set_xlabel('Time [s]')\n",
    "\n",
    "fig.tight_layout()\n",
    "plt.show()"
   ]
  },
  {
   "cell_type": "markdown",
   "metadata": {
    "hideCode": false
   },
   "source": [
    "# Systems separation\n",
    "As it was mentioned before, it is available data from 17 sensors. However, after analysing the sensors readout for cycles of pre-defined load, as it is shown in the following pictures, one notices that the cooling efficiency separates the measurements in three sets, each characterized by a mean temperature. Given this separation, one could think of having at hand data collected with different initial oil temperatures for system in Figure 1-a and not having information about circuit 1-b. In the same way one can think of circuit 1-b independent from 1-a. This reasoning allows to separate the two systems and analysing them individualy.\n",
    "\n",
    "## *Figure 4. a* Working circuit sensors\n",
    "<img src='images/W_cool_3-20-100_step1.jpg' alt = 'working sensors'> \n",
    "\n",
    "## *Figure 4. b* Cooling circuit sensors\n",
    "<img src='images/C_cool_3-20-100_step1.jpg' alt = 'cooling sensors'> "
   ]
  },
  {
   "cell_type": "markdown",
   "metadata": {},
   "source": [
    "# Essential ground truth"
   ]
  },
  {
   "cell_type": "markdown",
   "metadata": {},
   "source": [
    "Figures 4.a and 4.b show essential ground truth relationships among the measured variables.\n",
    "\n",
    "### Pressure and flow relationship (Bernoulli's principle)\n",
    "Bernoulli's principle states a relationship between kinetic energy, gravitational potential energy and pressure of an inconpresible fluid subject to steady and streamline flow and, assuming non dissipative forces. \n",
    "<!--- \n",
    "$$P + \\frac{1}{2}\\rho v^2 + \\rho gh = \\text{constant} $$\n",
    "\n",
    "$$P \\text{ is the pressure exerted by the fluid}, \\rho \\text{ is the density of the fluid}, v \\text{ fluid velocity}, g \\text{ gravitational acceleration} h \\text{ is the height where the fluid is flowing}$$.\n",
    "-->\n",
    "\n",
    "\n",
    "The principle says that when a fluid is flowing horizontally (no change in potential energy) from a high pressure region to a low pressure region (gradient of pressure), it will accelerate due to the net force along the direction of motion. Thinking of a small volume of fluid, the pressure behind it is higher than the one in front. This means that pressure difference causes the fluid to increase its velocity and consequently the flow rate. \n",
    "\n",
    "In Figure 1.a, the flow measured at FS1 is caused by the pressure difference before and after V11 (PS3 - PS2). While in Figure 1.b, the flow in FS2 is a portion of the flow passing trough C1 which is related to the difference PS6 - PS5. \n",
    "\n",
    "For further explenations refer to [What is Bernoulli's equation?](https://www.khanacademy.org/science/physics/fluids/fluid-dynamics/a/what-is-bernoullis-equation)\n",
    "\n",
    "### Flow rate and temperature relationship (Heat transport)\n",
    "Let's think of a small volume of fluid, entering for instance the system in Figure 1.a, carring a certain amound of heat. If it is moving at low speed (low flow rate), it will reach the ambient temperature before arriving the tank, since it transfered all its heat to the neighboor volumes and the pipe. On the other hand, if the speed is increased (higher flow rate) least heat is transferet to the ambient with the fluid flow and higher is the heat entering the system. Therefore, the flow rate causes changes in the temperature sensors readout. \n",
    "\n",
    "### Pump's motor and pressure relationship\n",
    "As it was mentioned previously, the hydraulic pump responses according to what the system requires in terms of pressure and flow, and its capability to deliver what is asked. Therefore, pump's motor power is a consequence of the pressure the pump delivers (PS2) and this pressure is directly influenced by the pressure the load requires (PS2). Finally, the motor's vibrations (VS1) are influenced by the work the motor performs.\n",
    "\n",
    "### Cooling and power and efficiency\n",
    "The cooling efficiency (CE) is determined from TS3 and TS4 in the following way $$CE = \\frac{TS3-TS4}{TS3-T_{amb}}$$\n",
    "\n",
    "While the calculation cooling power, which is an indirect measurement as well, is not clearly explained by the authors. The only mention about it states that CP is obtained from the heat transport equation of oil at the cooler. This makes us think that the calculation involved TS3, TS4 and FS2. \n",
    "\n",
    "### Some remarks\n",
    "Most of the relationship proposed here are first order relations, in real world applications there are phenomena non considered here as turbulences and fluid viscocity."
   ]
  },
  {
   "cell_type": "markdown",
   "metadata": {},
   "source": [
    "## *Figure 4.a* Working circuit ground truth"
   ]
  },
  {
   "cell_type": "code",
   "execution_count": 84,
   "metadata": {
    "hideCode": true
   },
   "outputs": [
    {
     "data": {
      "image/svg+xml": [
       "<?xml version=\"1.0\" encoding=\"UTF-8\" standalone=\"no\"?>\n",
       "<!DOCTYPE svg PUBLIC \"-//W3C//DTD SVG 1.1//EN\"\n",
       " \"http://www.w3.org/Graphics/SVG/1.1/DTD/svg11.dtd\">\n",
       "<!-- Generated by graphviz version 2.50.0 (0)\n",
       " -->\n",
       "<!-- Pages: 1 -->\n",
       "<svg width=\"214pt\" height=\"260pt\"\n",
       " viewBox=\"0.00 0.00 213.55 260.00\" xmlns=\"http://www.w3.org/2000/svg\" xmlns:xlink=\"http://www.w3.org/1999/xlink\">\n",
       "<g id=\"graph0\" class=\"graph\" transform=\"scale(1 1) rotate(0) translate(4 256)\">\n",
       "<polygon fill=\"white\" stroke=\"transparent\" points=\"-4,4 -4,-256 209.55,-256 209.55,4 -4,4\"/>\n",
       "<!-- PS2 -->\n",
       "<g id=\"node1\" class=\"node\">\n",
       "<title>PS2</title>\n",
       "<ellipse fill=\"none\" stroke=\"black\" cx=\"171\" cy=\"-234\" rx=\"27\" ry=\"18\"/>\n",
       "<text text-anchor=\"middle\" x=\"171\" y=\"-230.3\" font-family=\"Times New Roman,serif\" font-size=\"14.00\">PS2</text>\n",
       "</g>\n",
       "<!-- FS1 -->\n",
       "<g id=\"node2\" class=\"node\">\n",
       "<title>FS1</title>\n",
       "<ellipse fill=\"none\" stroke=\"black\" cx=\"99\" cy=\"-162\" rx=\"27\" ry=\"18\"/>\n",
       "<text text-anchor=\"middle\" x=\"99\" y=\"-158.3\" font-family=\"Times New Roman,serif\" font-size=\"14.00\">FS1</text>\n",
       "</g>\n",
       "<!-- PS2&#45;&gt;FS1 -->\n",
       "<g id=\"edge1\" class=\"edge\">\n",
       "<title>PS2&#45;&gt;FS1</title>\n",
       "<path fill=\"none\" stroke=\"black\" d=\"M156.43,-218.83C146.25,-208.94 132.48,-195.55 120.97,-184.36\"/>\n",
       "<polygon fill=\"black\" stroke=\"black\" points=\"123.41,-181.85 113.8,-177.38 118.53,-186.87 123.41,-181.85\"/>\n",
       "</g>\n",
       "<!-- PS1 -->\n",
       "<g id=\"node6\" class=\"node\">\n",
       "<title>PS1</title>\n",
       "<ellipse fill=\"none\" stroke=\"black\" cx=\"173\" cy=\"-162\" rx=\"27\" ry=\"18\"/>\n",
       "<text text-anchor=\"middle\" x=\"173\" y=\"-158.3\" font-family=\"Times New Roman,serif\" font-size=\"14.00\">PS1</text>\n",
       "</g>\n",
       "<!-- PS2&#45;&gt;PS1 -->\n",
       "<g id=\"edge5\" class=\"edge\">\n",
       "<title>PS2&#45;&gt;PS1</title>\n",
       "<path fill=\"none\" stroke=\"black\" d=\"M171.49,-215.7C171.71,-207.98 171.98,-198.71 172.23,-190.11\"/>\n",
       "<polygon fill=\"black\" stroke=\"black\" points=\"175.72,-190.2 172.51,-180.1 168.73,-190 175.72,-190.2\"/>\n",
       "</g>\n",
       "<!-- TS1 -->\n",
       "<g id=\"node4\" class=\"node\">\n",
       "<title>TS1</title>\n",
       "<ellipse fill=\"none\" stroke=\"black\" cx=\"27\" cy=\"-90\" rx=\"27\" ry=\"18\"/>\n",
       "<text text-anchor=\"middle\" x=\"27\" y=\"-86.3\" font-family=\"Times New Roman,serif\" font-size=\"14.00\">TS1</text>\n",
       "</g>\n",
       "<!-- FS1&#45;&gt;TS1 -->\n",
       "<g id=\"edge3\" class=\"edge\">\n",
       "<title>FS1&#45;&gt;TS1</title>\n",
       "<path fill=\"none\" stroke=\"black\" d=\"M84.43,-146.83C74.25,-136.94 60.48,-123.55 48.97,-112.36\"/>\n",
       "<polygon fill=\"black\" stroke=\"black\" points=\"51.41,-109.85 41.8,-105.38 46.53,-114.87 51.41,-109.85\"/>\n",
       "</g>\n",
       "<!-- TS2 -->\n",
       "<g id=\"node5\" class=\"node\">\n",
       "<title>TS2</title>\n",
       "<ellipse fill=\"none\" stroke=\"black\" cx=\"99\" cy=\"-90\" rx=\"27\" ry=\"18\"/>\n",
       "<text text-anchor=\"middle\" x=\"99\" y=\"-86.3\" font-family=\"Times New Roman,serif\" font-size=\"14.00\">TS2</text>\n",
       "</g>\n",
       "<!-- FS1&#45;&gt;TS2 -->\n",
       "<g id=\"edge4\" class=\"edge\">\n",
       "<title>FS1&#45;&gt;TS2</title>\n",
       "<path fill=\"none\" stroke=\"black\" d=\"M99,-143.7C99,-135.98 99,-126.71 99,-118.11\"/>\n",
       "<polygon fill=\"black\" stroke=\"black\" points=\"102.5,-118.1 99,-108.1 95.5,-118.1 102.5,-118.1\"/>\n",
       "</g>\n",
       "<!-- PS3 -->\n",
       "<g id=\"node3\" class=\"node\">\n",
       "<title>PS3</title>\n",
       "<ellipse fill=\"none\" stroke=\"black\" cx=\"99\" cy=\"-234\" rx=\"27\" ry=\"18\"/>\n",
       "<text text-anchor=\"middle\" x=\"99\" y=\"-230.3\" font-family=\"Times New Roman,serif\" font-size=\"14.00\">PS3</text>\n",
       "</g>\n",
       "<!-- PS3&#45;&gt;FS1 -->\n",
       "<g id=\"edge2\" class=\"edge\">\n",
       "<title>PS3&#45;&gt;FS1</title>\n",
       "<path fill=\"none\" stroke=\"black\" d=\"M99,-215.7C99,-207.98 99,-198.71 99,-190.11\"/>\n",
       "<polygon fill=\"black\" stroke=\"black\" points=\"102.5,-190.1 99,-180.1 95.5,-190.1 102.5,-190.1\"/>\n",
       "</g>\n",
       "<!-- EPS1 -->\n",
       "<g id=\"node7\" class=\"node\">\n",
       "<title>EPS1</title>\n",
       "<ellipse fill=\"none\" stroke=\"black\" cx=\"175\" cy=\"-90\" rx=\"30.59\" ry=\"18\"/>\n",
       "<text text-anchor=\"middle\" x=\"175\" y=\"-86.3\" font-family=\"Times New Roman,serif\" font-size=\"14.00\">EPS1</text>\n",
       "</g>\n",
       "<!-- PS1&#45;&gt;EPS1 -->\n",
       "<g id=\"edge6\" class=\"edge\">\n",
       "<title>PS1&#45;&gt;EPS1</title>\n",
       "<path fill=\"none\" stroke=\"black\" d=\"M173.49,-143.7C173.71,-135.98 173.98,-126.71 174.23,-118.11\"/>\n",
       "<polygon fill=\"black\" stroke=\"black\" points=\"177.72,-118.2 174.51,-108.1 170.73,-118 177.72,-118.2\"/>\n",
       "</g>\n",
       "<!-- VS1 -->\n",
       "<g id=\"node8\" class=\"node\">\n",
       "<title>VS1</title>\n",
       "<ellipse fill=\"none\" stroke=\"black\" cx=\"175\" cy=\"-18\" rx=\"27\" ry=\"18\"/>\n",
       "<text text-anchor=\"middle\" x=\"175\" y=\"-14.3\" font-family=\"Times New Roman,serif\" font-size=\"14.00\">VS1</text>\n",
       "</g>\n",
       "<!-- EPS1&#45;&gt;VS1 -->\n",
       "<g id=\"edge7\" class=\"edge\">\n",
       "<title>EPS1&#45;&gt;VS1</title>\n",
       "<path fill=\"none\" stroke=\"black\" d=\"M175,-71.7C175,-63.98 175,-54.71 175,-46.11\"/>\n",
       "<polygon fill=\"black\" stroke=\"black\" points=\"178.5,-46.1 175,-36.1 171.5,-46.1 178.5,-46.1\"/>\n",
       "</g>\n",
       "</g>\n",
       "</svg>\n"
      ],
      "text/plain": [
       "<graphviz.graphs.Digraph at 0x24c03276320>"
      ]
     },
     "execution_count": 84,
     "metadata": {},
     "output_type": "execute_result"
    }
   ],
   "source": [
    "g_A = gr.Digraph()\n",
    "\n",
    "g_A.edge(\"PS2\", \"FS1\")\n",
    "g_A.edge(\"PS3\", \"FS1\")\n",
    "g_A.edge(\"FS1\", \"TS1\")\n",
    "g_A.edge(\"FS1\", \"TS2\")\n",
    "g_A.edge(\"PS2\",\"PS1\")\n",
    "g_A.edge(\"PS1\",\"EPS1\")\n",
    "g_A.edge(\"EPS1\",\"VS1\")\n",
    "g_A"
   ]
  },
  {
   "cell_type": "markdown",
   "metadata": {},
   "source": [
    "## *Figure 4.b* Cooling circuit ground truth"
   ]
  },
  {
   "cell_type": "code",
   "execution_count": 54,
   "metadata": {
    "hideCode": false
   },
   "outputs": [
    {
     "data": {
      "image/svg+xml": [
       "<?xml version=\"1.0\" encoding=\"UTF-8\" standalone=\"no\"?>\n",
       "<!DOCTYPE svg PUBLIC \"-//W3C//DTD SVG 1.1//EN\"\n",
       " \"http://www.w3.org/Graphics/SVG/1.1/DTD/svg11.dtd\">\n",
       "<!-- Generated by graphviz version 2.50.0 (0)\n",
       " -->\n",
       "<!-- Pages: 1 -->\n",
       "<svg width=\"206pt\" height=\"260pt\"\n",
       " viewBox=\"0.00 0.00 206.00 260.00\" xmlns=\"http://www.w3.org/2000/svg\" xmlns:xlink=\"http://www.w3.org/1999/xlink\">\n",
       "<g id=\"graph0\" class=\"graph\" transform=\"scale(1 1) rotate(0) translate(4 256)\">\n",
       "<polygon fill=\"white\" stroke=\"transparent\" points=\"-4,4 -4,-256 202,-256 202,4 -4,4\"/>\n",
       "<!-- PS5 -->\n",
       "<g id=\"node1\" class=\"node\">\n",
       "<title>PS5</title>\n",
       "<ellipse fill=\"none\" stroke=\"black\" cx=\"27\" cy=\"-234\" rx=\"27\" ry=\"18\"/>\n",
       "<text text-anchor=\"middle\" x=\"27\" y=\"-230.3\" font-family=\"Times New Roman,serif\" font-size=\"14.00\">PS5</text>\n",
       "</g>\n",
       "<!-- FS2 -->\n",
       "<g id=\"node3\" class=\"node\">\n",
       "<title>FS2</title>\n",
       "<ellipse fill=\"none\" stroke=\"black\" cx=\"63\" cy=\"-162\" rx=\"27\" ry=\"18\"/>\n",
       "<text text-anchor=\"middle\" x=\"63\" y=\"-158.3\" font-family=\"Times New Roman,serif\" font-size=\"14.00\">FS2</text>\n",
       "</g>\n",
       "<!-- PS5&#45;&gt;FS2 -->\n",
       "<g id=\"edge2\" class=\"edge\">\n",
       "<title>PS5&#45;&gt;FS2</title>\n",
       "<path fill=\"none\" stroke=\"black\" d=\"M35.71,-216.57C39.96,-208.08 45.15,-197.69 49.87,-188.27\"/>\n",
       "<polygon fill=\"black\" stroke=\"black\" points=\"53.02,-189.78 54.37,-179.27 46.76,-186.65 53.02,-189.78\"/>\n",
       "</g>\n",
       "<!-- PS6 -->\n",
       "<g id=\"node2\" class=\"node\">\n",
       "<title>PS6</title>\n",
       "<ellipse fill=\"none\" stroke=\"black\" cx=\"99\" cy=\"-234\" rx=\"27\" ry=\"18\"/>\n",
       "<text text-anchor=\"middle\" x=\"99\" y=\"-230.3\" font-family=\"Times New Roman,serif\" font-size=\"14.00\">PS6</text>\n",
       "</g>\n",
       "<!-- PS6&#45;&gt;FS2 -->\n",
       "<g id=\"edge1\" class=\"edge\">\n",
       "<title>PS6&#45;&gt;FS2</title>\n",
       "<path fill=\"none\" stroke=\"black\" d=\"M90.29,-216.57C86.04,-208.08 80.85,-197.69 76.13,-188.27\"/>\n",
       "<polygon fill=\"black\" stroke=\"black\" points=\"79.24,-186.65 71.63,-179.27 72.98,-189.78 79.24,-186.65\"/>\n",
       "</g>\n",
       "<!-- TS4 -->\n",
       "<g id=\"node4\" class=\"node\">\n",
       "<title>TS4</title>\n",
       "<ellipse fill=\"none\" stroke=\"black\" cx=\"27\" cy=\"-90\" rx=\"27\" ry=\"18\"/>\n",
       "<text text-anchor=\"middle\" x=\"27\" y=\"-86.3\" font-family=\"Times New Roman,serif\" font-size=\"14.00\">TS4</text>\n",
       "</g>\n",
       "<!-- FS2&#45;&gt;TS4 -->\n",
       "<g id=\"edge4\" class=\"edge\">\n",
       "<title>FS2&#45;&gt;TS4</title>\n",
       "<path fill=\"none\" stroke=\"black\" d=\"M54.29,-144.57C50.04,-136.08 44.85,-125.69 40.13,-116.27\"/>\n",
       "<polygon fill=\"black\" stroke=\"black\" points=\"43.24,-114.65 35.63,-107.27 36.98,-117.78 43.24,-114.65\"/>\n",
       "</g>\n",
       "<!-- TS3 -->\n",
       "<g id=\"node5\" class=\"node\">\n",
       "<title>TS3</title>\n",
       "<ellipse fill=\"none\" stroke=\"black\" cx=\"99\" cy=\"-90\" rx=\"27\" ry=\"18\"/>\n",
       "<text text-anchor=\"middle\" x=\"99\" y=\"-86.3\" font-family=\"Times New Roman,serif\" font-size=\"14.00\">TS3</text>\n",
       "</g>\n",
       "<!-- FS2&#45;&gt;TS3 -->\n",
       "<g id=\"edge3\" class=\"edge\">\n",
       "<title>FS2&#45;&gt;TS3</title>\n",
       "<path fill=\"none\" stroke=\"black\" d=\"M71.71,-144.57C75.96,-136.08 81.15,-125.69 85.87,-116.27\"/>\n",
       "<polygon fill=\"black\" stroke=\"black\" points=\"89.02,-117.78 90.37,-107.27 82.76,-114.65 89.02,-117.78\"/>\n",
       "</g>\n",
       "<!-- CP -->\n",
       "<g id=\"node6\" class=\"node\">\n",
       "<title>CP</title>\n",
       "<ellipse fill=\"none\" stroke=\"black\" cx=\"171\" cy=\"-162\" rx=\"27\" ry=\"18\"/>\n",
       "<text text-anchor=\"middle\" x=\"171\" y=\"-158.3\" font-family=\"Times New Roman,serif\" font-size=\"14.00\">CP</text>\n",
       "</g>\n",
       "<!-- FS2&#45;&gt;CP -->\n",
       "<g id=\"edge9\" class=\"edge\">\n",
       "<title>FS2&#45;&gt;CP</title>\n",
       "<path fill=\"none\" stroke=\"black\" d=\"M90.25,-162C103.43,-162 119.44,-162 133.73,-162\"/>\n",
       "<polygon fill=\"black\" stroke=\"black\" points=\"133.76,-165.5 143.76,-162 133.76,-158.5 133.76,-165.5\"/>\n",
       "</g>\n",
       "<!-- TS4&#45;&gt;CP -->\n",
       "<g id=\"edge8\" class=\"edge\">\n",
       "<title>TS4&#45;&gt;CP</title>\n",
       "<path fill=\"none\" stroke=\"black\" d=\"M48.87,-100.94C73.22,-113.11 112.76,-132.88 140.23,-146.61\"/>\n",
       "<polygon fill=\"black\" stroke=\"black\" points=\"138.89,-149.86 149.4,-151.2 142.02,-143.6 138.89,-149.86\"/>\n",
       "</g>\n",
       "<!-- CE -->\n",
       "<g id=\"node7\" class=\"node\">\n",
       "<title>CE</title>\n",
       "<ellipse fill=\"none\" stroke=\"black\" cx=\"63\" cy=\"-18\" rx=\"27\" ry=\"18\"/>\n",
       "<text text-anchor=\"middle\" x=\"63\" y=\"-14.3\" font-family=\"Times New Roman,serif\" font-size=\"14.00\">CE</text>\n",
       "</g>\n",
       "<!-- TS4&#45;&gt;CE -->\n",
       "<g id=\"edge6\" class=\"edge\">\n",
       "<title>TS4&#45;&gt;CE</title>\n",
       "<path fill=\"none\" stroke=\"black\" d=\"M35.71,-72.57C39.96,-64.08 45.15,-53.69 49.87,-44.27\"/>\n",
       "<polygon fill=\"black\" stroke=\"black\" points=\"53.02,-45.78 54.37,-35.27 46.76,-42.65 53.02,-45.78\"/>\n",
       "</g>\n",
       "<!-- TS3&#45;&gt;CP -->\n",
       "<g id=\"edge7\" class=\"edge\">\n",
       "<title>TS3&#45;&gt;CP</title>\n",
       "<path fill=\"none\" stroke=\"black\" d=\"M114.27,-105.27C124.2,-115.2 137.32,-128.32 148.44,-139.44\"/>\n",
       "<polygon fill=\"black\" stroke=\"black\" points=\"146.21,-142.16 155.75,-146.75 151.16,-137.21 146.21,-142.16\"/>\n",
       "</g>\n",
       "<!-- TS3&#45;&gt;CE -->\n",
       "<g id=\"edge5\" class=\"edge\">\n",
       "<title>TS3&#45;&gt;CE</title>\n",
       "<path fill=\"none\" stroke=\"black\" d=\"M90.29,-72.57C86.04,-64.08 80.85,-53.69 76.13,-44.27\"/>\n",
       "<polygon fill=\"black\" stroke=\"black\" points=\"79.24,-42.65 71.63,-35.27 72.98,-45.78 79.24,-42.65\"/>\n",
       "</g>\n",
       "</g>\n",
       "</svg>\n"
      ],
      "text/plain": [
       "<graphviz.graphs.Digraph at 0x1563cd8fa90>"
      ]
     },
     "execution_count": 54,
     "metadata": {},
     "output_type": "execute_result"
    }
   ],
   "source": [
    "g_B = gr.Digraph(engine='neato')\n",
    "nodes_B = ['PS5','PS6','FS2','TS4','TS3','CP','CE']\n",
    "position = ['0,0!','1,0!','0.5,-1!','0,-2!','1,-2!','2,-1!','0.5,-3!']\n",
    "for node,p in zip(nodes_B,position):\n",
    "    g_B.node(name= node,label=node, pos=p)\n",
    "g_B.edge(\"PS6\", \"FS2\")\n",
    "g_B.edge(\"PS5\", \"FS2\")\n",
    "g_B.edge(\"FS2\", \"TS3\")\n",
    "g_B.edge(\"FS2\", \"TS4\")\n",
    "g_B.edge(\"TS3\",\"CE\")\n",
    "g_B.edge(\"TS4\",\"CE\")\n",
    "g_B.edge(\"TS3\",\"CP\")\n",
    "g_B.edge(\"TS4\",\"CP\")\n",
    "g_B.edge(\"FS2\",\"CP\")\n",
    "g_B"
   ]
  },
  {
   "cell_type": "markdown",
   "metadata": {},
   "source": [
    "## Score based method: Greedy Equivalent Search "
   ]
  },
  {
   "cell_type": "markdown",
   "metadata": {},
   "source": [
    "## Working system sensors"
   ]
  },
  {
   "cell_type": "code",
   "execution_count": 4,
   "metadata": {
    "hideCode": true
   },
   "outputs": [
    {
     "name": "stdout",
     "output_type": "stream",
     "text": [
      "----------------------------------------\n",
      "1Hz files\n",
      "----------------------------------------\n",
      "['TS1.txt', 'TS2.txt', 'VS1.txt']\n",
      "Data loaded. Matrix shape: (86940, 3)\n",
      "----------------------------------------\n",
      "10Hz files\n",
      "----------------------------------------\n",
      "['FS1.txt']\n",
      "Data loaded. Matrix shape: (869400, 1)\n",
      "Data sub sampled. Matrix shape: (86940, 1)\n",
      "----------------------------------------\n",
      "100Hz files\n",
      "----------------------------------------\n",
      "['PS1.txt', 'PS2.txt', 'PS3.txt', 'EPS1.txt']\n",
      "Data loaded. Matrix shape: (8694000, 4)\n",
      "Data sub sampled. Matrix shape: (86940, 4)\n",
      "----------------------------------------\n",
      "Whole data matrix created!!\n",
      "----------------------------------------\n",
      "(86940, 8)\n"
     ]
    }
   ],
   "source": [
    "A_sensors = [\"PS1\",\"PS2\",\"PS3\",\"FS1\",\"TS1\",\"TS2\",\"EPS1\",\"VS1\"]\n",
    "\n",
    "profile = np.loadtxt('data description/profile.txt', delimiter='\\t', skiprows=0, dtype=float)\n",
    "idx_A = np.where(profile[:,4] == 0)\n",
    "idx_A = np.asarray(idx_A)[0]\n",
    "\n",
    "print('----------------------------------------')\n",
    "print('1Hz files')\n",
    "print('----------------------------------------')\n",
    "arr = os.listdir('data/1Hz')\n",
    "arr1 = list()\n",
    "for sensor in A_sensors:\n",
    "    if sensor+'.txt' in arr:\n",
    "        arr1.append(sensor+'.txt')\n",
    "arr = arr1        \n",
    "A_1Hz = load_data(arr,'data/1Hz/', idx_arr=idx_A) \n",
    "print(arr)\n",
    "print('Data loaded. Matrix shape:', A_1Hz.shape)\n",
    "\n",
    "# Loading data sampled at 1Hz\n",
    "print('----------------------------------------')\n",
    "print('10Hz files')\n",
    "print('----------------------------------------')\n",
    "arr = os.listdir('data/10Hz')\n",
    "arr1 = list()\n",
    "for sensor in A_sensors:\n",
    "    if sensor+'.txt' in arr:\n",
    "        arr1.append(sensor+'.txt')\n",
    "arr = arr1   \n",
    "print(arr)\n",
    "A_10Hz = load_data(arr,'data/10Hz/', idx_arr=idx_A)\n",
    "print('Data loaded. Matrix shape:', A_10Hz.shape)\n",
    "# Data Sub sampling \n",
    "A_10Hz_sub=A_10Hz[0:-1:10,:]\n",
    "print('Data sub sampled. Matrix shape:', A_10Hz_sub.shape)\n",
    "\n",
    "# Loading data sampled at 100Hz\n",
    "print('----------------------------------------')\n",
    "print('100Hz files')\n",
    "print('----------------------------------------')\n",
    "arr = os.listdir('data/100Hz')\n",
    "arr1 = list()\n",
    "for sensor in A_sensors:\n",
    "    if sensor+'.txt' in arr:\n",
    "        arr1.append(sensor+'.txt')\n",
    "arr = arr1\n",
    "print(arr)\n",
    "A_100Hz = load_data(arr,'data/100Hz/', idx_arr=idx_A)\n",
    "print('Data loaded. Matrix shape:', A_100Hz.shape)\n",
    "# Data Sub sampling \n",
    "A_100Hz_sub=A_100Hz[0:-1:100,:]\n",
    "print('Data sub sampled. Matrix shape:', A_100Hz_sub.shape)\n",
    "\n",
    "# Data matrixes concatenation\n",
    "print('----------------------------------------')\n",
    "print('Whole data matrix created!!')\n",
    "print('----------------------------------------')\n",
    "A_data = np.concatenate((A_1Hz, A_10Hz_sub, A_100Hz_sub),1)\n",
    "print(A_data.shape)"
   ]
  },
  {
   "cell_type": "code",
   "execution_count": 5,
   "metadata": {},
   "outputs": [
    {
     "name": "stdout",
     "output_type": "stream",
     "text": [
      "[[0 1 0 1 1 1 0 0]\n",
      " [0 0 0 1 0 1 0 0]\n",
      " [1 1 0 1 1 1 1 0]\n",
      " [0 0 0 0 0 1 0 0]\n",
      " [1 1 0 1 0 1 0 0]\n",
      " [0 0 0 1 0 0 0 0]\n",
      " [1 1 1 1 1 1 0 1]\n",
      " [1 0 0 1 1 1 1 0]] -847704.3384485146\n",
      "File saved:  adjMat_A\n",
      "File saved:  score_A\n"
     ]
    },
    {
     "data": {
      "text/plain": [
       "'Results\\\\Graph_A.png'"
      ]
     },
     "execution_count": 5,
     "metadata": {},
     "output_type": "execute_result"
    }
   ],
   "source": [
    "A_estimate, A_score = ges.fit_bic(A_data)\n",
    "print(A_estimate,A_score)\n",
    "save_adjMat_score('A',A_estimate,A_score)\n",
    "f = create_graph(A_estimate, A_sensors, A_sensors)\n",
    "f.render(\"Results/Graph_A\", format=\"pdf\")\n",
    "f.render(\"Results/Graph_A\", format=\"png\")"
   ]
  },
  {
   "cell_type": "markdown",
   "metadata": {},
   "source": [
    "## Cooling circuit"
   ]
  },
  {
   "cell_type": "code",
   "execution_count": 11,
   "metadata": {
    "hideCode": true
   },
   "outputs": [
    {
     "name": "stdout",
     "output_type": "stream",
     "text": [
      "----------------------------------------\n",
      "1Hz files\n",
      "----------------------------------------\n",
      "['TS3.txt', 'TS4.txt', 'CE.txt', 'CP.txt']\n",
      "Data loaded. Matrix shape: (86940, 4)\n",
      "----------------------------------------\n",
      "10Hz files\n",
      "----------------------------------------\n",
      "['FS2.txt']\n",
      "Data loaded. Matrix shape: (869400, 1)\n",
      "Data sub sampled. Matrix shape: (86940, 1)\n",
      "----------------------------------------\n",
      "100Hz files\n",
      "----------------------------------------\n",
      "['PS5.txt', 'PS6.txt']\n",
      "Data loaded. Matrix shape: (8694000, 2)\n",
      "Data sub sampled. Matrix shape: (86940, 2)\n",
      "----------------------------------------\n",
      "Whole data matrix created!!\n",
      "----------------------------------------\n",
      "(86940, 7)\n"
     ]
    }
   ],
   "source": [
    "B_sensors = [\"PS5\",\"PS6\",\"FS2\",\"TS3\",\"TS4\",\"CE\",\"CP\"]\n",
    "\n",
    "profile = np.loadtxt('data description/profile.txt', delimiter='\\t', skiprows=0, dtype=float)\n",
    "idx_B = np.where(profile[:,4] == 0)\n",
    "idx_B = np.asarray(idx_B)[0]\n",
    "\n",
    "print('----------------------------------------')\n",
    "print('1Hz files')\n",
    "print('----------------------------------------')\n",
    "arr = os.listdir('data/1Hz')\n",
    "arr1 = list()\n",
    "for sensor in B_sensors:\n",
    "    if sensor+'.txt' in arr:\n",
    "        arr1.append(sensor+'.txt')\n",
    "arr = arr1        \n",
    "B_1Hz = load_data(arr,'data/1Hz/', idx_arr=idx_B) \n",
    "print(arr)\n",
    "print('Data loaded. Matrix shape:', B_1Hz.shape)\n",
    "\n",
    "# Loading data sampled at 1Hz\n",
    "print('----------------------------------------')\n",
    "print('10Hz files')\n",
    "print('----------------------------------------')\n",
    "arr = os.listdir('data/10Hz')\n",
    "arr1 = list()\n",
    "for sensor in B_sensors:\n",
    "    if sensor+'.txt' in arr:\n",
    "        arr1.append(sensor+'.txt')\n",
    "arr = arr1   \n",
    "print(arr)\n",
    "B_10Hz = load_data(arr,'data/10Hz/', idx_arr=idx_B)\n",
    "print('Data loaded. Matrix shape:', B_10Hz.shape)\n",
    "# Data Sub sampling \n",
    "B_10Hz_sub=B_10Hz[0:-1:10,:]\n",
    "print('Data sub sampled. Matrix shape:', B_10Hz_sub.shape)\n",
    "\n",
    "# Loading data sampled at 100Hz\n",
    "print('----------------------------------------')\n",
    "print('100Hz files')\n",
    "print('----------------------------------------')\n",
    "arr = os.listdir('data/100Hz')\n",
    "arr1 = list()\n",
    "for sensor in B_sensors:\n",
    "    if sensor+'.txt' in arr:\n",
    "        arr1.append(sensor+'.txt')\n",
    "arr = arr1\n",
    "print(arr)\n",
    "B_100Hz = load_data(arr,'data/100Hz/', idx_arr=idx_B)\n",
    "print('Data loaded. Matrix shape:', B_100Hz.shape)\n",
    "# Data Sub sampling \n",
    "B_100Hz_sub=B_100Hz[0:-1:100,:]\n",
    "print('Data sub sampled. Matrix shape:', B_100Hz_sub.shape)\n",
    "\n",
    "# Data matrixes concatenation\n",
    "print('----------------------------------------')\n",
    "print('Whole data matrix created!!')\n",
    "print('----------------------------------------')\n",
    "B_data = np.concatenate((B_1Hz, B_10Hz_sub, B_100Hz_sub),1)\n",
    "print(B_data.shape)"
   ]
  },
  {
   "cell_type": "code",
   "execution_count": 12,
   "metadata": {
    "hideCode": false
   },
   "outputs": [
    {
     "name": "stdout",
     "output_type": "stream",
     "text": [
      "[[0 1 1 1 1 1 1]\n",
      " [1 0 1 1 1 1 1]\n",
      " [0 0 0 0 0 0 0]\n",
      " [1 1 1 0 1 1 1]\n",
      " [1 1 1 1 0 0 1]\n",
      " [1 1 1 1 0 0 1]\n",
      " [1 1 1 1 1 1 0]] 1067203.172875446\n",
      "File saved:  adjMat_B\n",
      "File saved:  score_B\n"
     ]
    },
    {
     "data": {
      "text/plain": [
       "'Results\\\\Graph_B.png'"
      ]
     },
     "execution_count": 12,
     "metadata": {},
     "output_type": "execute_result"
    }
   ],
   "source": [
    "B_estimate, B_score = ges.fit_bic(B_data)\n",
    "print(B_estimate,B_score)\n",
    "save_adjMat_score('B',B_estimate,B_score)\n",
    "f = create_graph(B_estimate, B_sensors, B_sensors)\n",
    "f.render(\"Results/Graph_B\", format=\"pdf\")\n",
    "f.render(\"Results/Graph_B\", format=\"png\")"
   ]
  },
  {
   "cell_type": "markdown",
   "metadata": {},
   "source": [
    "### Whole data analysis"
   ]
  },
  {
   "cell_type": "code",
   "execution_count": 17,
   "metadata": {},
   "outputs": [],
   "source": [
    "estimate,score = ges.fit_bic(data)"
   ]
  },
  {
   "cell_type": "code",
   "execution_count": 18,
   "metadata": {},
   "outputs": [
    {
     "name": "stdout",
     "output_type": "stream",
     "text": [
      "[[0 0 0 0 0 0 0 1 0 0 0 0 1 1 1 0 0]\n",
      " [1 0 0 1 1 1 1 0 1 1 1 0 1 1 0 1 0]\n",
      " [1 0 0 0 0 1 1 1 0 1 0 0 1 1 1 1 0]\n",
      " [1 1 1 0 1 1 1 1 1 1 1 1 1 1 1 1 0]\n",
      " [1 1 1 1 0 1 1 1 1 1 1 1 1 1 1 1 1]\n",
      " [1 0 0 0 0 0 0 1 0 0 0 0 1 1 1 0 0]\n",
      " [1 0 0 0 0 1 0 0 0 1 0 0 1 1 1 0 1]\n",
      " [0 0 0 0 0 0 0 0 0 0 0 0 1 1 1 0 0]\n",
      " [1 1 1 1 1 0 1 1 0 1 1 1 1 1 1 1 0]\n",
      " [1 0 0 0 0 1 0 1 0 0 0 0 1 1 0 0 0]\n",
      " [1 0 1 0 0 1 1 1 0 1 0 0 1 1 1 0 0]\n",
      " [1 0 1 1 1 0 1 1 1 1 1 0 1 1 1 1 0]\n",
      " [0 0 0 0 0 0 0 0 0 0 0 0 0 0 0 0 0]\n",
      " [0 0 0 0 0 0 0 0 0 0 0 0 1 0 1 0 0]\n",
      " [0 0 0 0 0 0 0 0 0 0 0 0 0 0 0 0 0]\n",
      " [1 0 0 0 0 1 1 0 0 1 0 0 1 1 1 0 1]\n",
      " [1 0 0 0 0 0 0 1 0 1 0 0 1 0 1 0 0]] 296062.7371410033\n",
      "File saved:  adjMat_whole_data_sub\n",
      "File saved:  score_whole_data_sub\n"
     ]
    }
   ],
   "source": [
    "print(estimate,score)\n",
    "save_adjMat_score('whole_data_sub',estimate,score)"
   ]
  },
  {
   "cell_type": "code",
   "execution_count": 19,
   "metadata": {},
   "outputs": [
    {
     "data": {
      "text/plain": [
       "'Results\\\\Graph_whole_data_sub.png'"
      ]
     },
     "execution_count": 19,
     "metadata": {},
     "output_type": "execute_result"
    }
   ],
   "source": [
    "f = create_graph(estimate, nodes_full, nodes_full)\n",
    "f.render(\"Results/Graph_whole_data_sub\", format=\"pdf\")\n",
    "f.render(\"Results/Graph_whole_data_sub\", format=\"png\")"
   ]
  },
  {
   "cell_type": "markdown",
   "metadata": {},
   "source": [
    "# GNN - Gcastle"
   ]
  },
  {
   "cell_type": "code",
   "execution_count": null,
   "metadata": {
    "hideCode": false
   },
   "outputs": [],
   "source": [
    "import os\n",
    "os.environ['CASTLE_BACKEND'] = 'pytorch'\n",
    "from castle.common import GraphDAG\n",
    "from castle.algorithms import DAG_GNN\n",
    "import pandas as pd\n",
    "import numpy as np\n",
    "import networkx as nx\n",
    "import matplotlib.pyplot as plt\n",
    "\n",
    "# rl learn\n",
    "gnn_A = DAG_GNN(device_type='cpu')\n",
    "gnn_A.learn(A_data)\n",
    "# plot dag\n",
    "adj_A = gnn_A.causal_matrix\n",
    "GraphDAG(adj_A)\n",
    "save_adjMat_score('A_GNN',adj_A,score)\n",
    "A_sensors = [\"PS1\",\"PS2\",\"PS3\",\"FS1\",\"TS1\",\"TS2\",\"EPS1\",\"VS1\"]\n",
    "\n",
    "f = create_graph(adj_A, A_sensors, A_sensors)\n",
    "f.render(\"Results/Graph_A_GNN\", format=\"pdf\")\n",
    "f.render(\"Results/Graph_A_GNN\", format=\"png\")"
   ]
  },
  {
   "cell_type": "code",
   "execution_count": null,
   "metadata": {
    "hideCode": false
   },
   "outputs": [],
   "source": [
    "# rl learn\n",
    "gnn_B = DAG_GNN(device_type='cpu')\n",
    "gnn_B.learn(B_data)\n",
    "# plot dag\n",
    "adj_B = gnn_B.causal_matrix\n",
    "GraphDAG(adj_B)\n",
    "save_adjMat_score('B_GNN',adj_B,score)\n",
    "B_sensors = [\"PS5\",\"PS6\",\"FS2\",\"TS3\",\"TS4\",\"CE\",\"CP\"]\n",
    "f = create_graph(adj_B,B_sensors,B_sensors)\n",
    "f.render(\"Results/Graph_B_GNN\", format=\"pdf\")\n",
    "f.render(\"Results/Graph_B_GNN\", format=\"png\")"
   ]
  },
  {
   "cell_type": "markdown",
   "metadata": {
    "id": "nszrPfU1bDEh"
   },
   "source": [
    "# **Bibliography:**\n",
    "\n",
    "[1] https://archive-beta.ics.uci.edu/dataset/447/condition+monitoring+of+hydraulic+systems\n",
    "\n",
    "[2] https://ieeexplore.ieee.org/document/7151267"
   ]
  }
 ],
 "metadata": {
  "accelerator": "GPU",
  "celltoolbar": "Hide code",
  "colab": {
   "provenance": []
  },
  "kernelspec": {
   "display_name": "Python 3",
   "language": "python",
   "name": "python3"
  },
  "language_info": {
   "codemirror_mode": {
    "name": "ipython",
    "version": 3
   },
   "file_extension": ".py",
   "mimetype": "text/x-python",
   "name": "python",
   "nbconvert_exporter": "python",
   "pygments_lexer": "ipython3",
   "version": "3.10.9"
  }
 },
 "nbformat": 4,
 "nbformat_minor": 1
}
